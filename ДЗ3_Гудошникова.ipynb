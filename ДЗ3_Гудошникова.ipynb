{
  "cells": [
    {
      "cell_type": "markdown",
      "metadata": {
        "id": "vRciyzvPEDLD"
      },
      "source": [
        "# Устанавливаем java и ChromHmm"
      ]
    },
    {
      "cell_type": "code",
      "execution_count": 1,
      "metadata": {
        "colab": {
          "base_uri": "https://localhost:8080/"
        },
        "id": "1O3GJ3Gys7Tm",
        "outputId": "849d07c8-1d6a-4cab-f4b4-e97d39b3bac6"
      },
      "outputs": [
        {
          "name": "stdout",
          "output_type": "stream",
          "text": [
            "  % Total    % Received % Xferd  Average Speed   Time    Time     Time  Current\n",
            "                                 Dload  Upload   Total   Spent    Left  Speed\n",
            "100   155  100   155    0     0    531      0 --:--:-- --:--:-- --:--:--   532\n",
            "fix-colab-gpu.sh: line 5: nvcc: command not found\n"
          ]
        }
      ],
      "source": [
        "!curl -O https://raw.githubusercontent.com/deepjavalibrary/d2l-java/master/tools/fix-colab-gpu.sh && bash fix-colab-gpu.sh"
      ]
    },
    {
      "cell_type": "code",
      "execution_count": 2,
      "metadata": {
        "colab": {
          "base_uri": "https://localhost:8080/"
        },
        "id": "NxS1Mv5WquOV",
        "outputId": "713bc397-b48a-4d22-a8e0-82c322666790"
      },
      "outputs": [
        {
          "name": "stdout",
          "output_type": "stream",
          "text": [
            "  % Total    % Received % Xferd  Average Speed   Time    Time     Time  Current\n",
            "                                 Dload  Upload   Total   Spent    Left  Speed\n",
            "100   520  100   520    0     0   2270      0 --:--:-- --:--:-- --:--:--  2270\n",
            "Update environment...\n",
            "Install Java...\n",
            "Install Jupyter java kernel...\n"
          ]
        }
      ],
      "source": [
        "!curl -O https://raw.githubusercontent.com/deepjavalibrary/d2l-java/master/tools/colab_build.sh && bash colab_build.sh"
      ]
    },
    {
      "cell_type": "code",
      "execution_count": 3,
      "metadata": {
        "colab": {
          "base_uri": "https://localhost:8080/"
        },
        "id": "_NrPS924rQFX",
        "outputId": "85fbdb13-4da5-4c40-fde4-b20b36c3992b"
      },
      "outputs": [
        {
          "name": "stdout",
          "output_type": "stream",
          "text": [
            "jdk.jshell@11.0.23\n"
          ]
        }
      ],
      "source": [
        "!java --list-modules | grep \"jdk.jshell\"\n"
      ]
    },
    {
      "cell_type": "code",
      "execution_count": null,
      "metadata": {
        "colab": {
          "base_uri": "https://localhost:8080/"
        },
        "id": "zCdYYvCJrpRt",
        "outputId": "eb7cbcf3-e1f2-4978-c5e4-a8f33a8cf5cd"
      },
      "outputs": [],
      "source": [
        "! wget http://compbio.mit.edu/ChromHMM/ChromHMM.zip"
      ]
    },
    {
      "cell_type": "code",
      "execution_count": 5,
      "metadata": {
        "colab": {
          "base_uri": "https://localhost:8080/"
        },
        "id": "gF4uI2bvvEN2",
        "outputId": "2b21ae3f-2ce8-4740-f252-417a4cc51d96"
      },
      "outputs": [
        {
          "name": "stdout",
          "output_type": "stream",
          "text": [
            "Archive:  /content/ChromHMM.zip\n",
            "   creating: ChromHMM/ANCHORFILES/\n",
            "   creating: ChromHMM/ANCHORFILES/ce10/\n",
            "  inflating: ChromHMM/ANCHORFILES/ce10/RefSeqTES.ce10.txt.gz  \n",
            "  inflating: ChromHMM/ANCHORFILES/ce10/RefSeqTSS.ce10.txt.gz  \n",
            "   creating: ChromHMM/ANCHORFILES/ce11/\n",
            "  inflating: ChromHMM/ANCHORFILES/ce11/RefSeqTES.ce11.txt.gz  \n",
            "  inflating: ChromHMM/ANCHORFILES/ce11/RefSeqTSS.ce11.txt.gz  \n",
            "   creating: ChromHMM/ANCHORFILES/ce6/\n",
            "  inflating: ChromHMM/ANCHORFILES/ce6/RefSeqTES.ce6.txt.gz  \n",
            "  inflating: ChromHMM/ANCHORFILES/ce6/RefSeqTSS.ce6.txt.gz  \n",
            "   creating: ChromHMM/ANCHORFILES/danRer10/\n",
            "  inflating: ChromHMM/ANCHORFILES/danRer10/RefSeqTES.danRer10.txt.gz  \n",
            "  inflating: ChromHMM/ANCHORFILES/danRer10/RefSeqTSS.danRer10.txt.gz  \n",
            "   creating: ChromHMM/ANCHORFILES/danRer11/\n",
            "  inflating: ChromHMM/ANCHORFILES/danRer11/RefSeqTES.danRer11.txt.gz  \n",
            "  inflating: ChromHMM/ANCHORFILES/danRer11/RefSeqTSS.danRer11.txt.gz  \n",
            "   creating: ChromHMM/ANCHORFILES/danRer7/\n",
            "  inflating: ChromHMM/ANCHORFILES/danRer7/RefSeqTES.danRer7.txt.gz  \n",
            "  inflating: ChromHMM/ANCHORFILES/danRer7/RefSeqTSS.danRer7.txt.gz  \n",
            "   creating: ChromHMM/ANCHORFILES/dm3/\n",
            "  inflating: ChromHMM/ANCHORFILES/dm3/RefSeqTES.dm3.txt.gz  \n",
            "  inflating: ChromHMM/ANCHORFILES/dm3/RefSeqTSS.dm3.txt.gz  \n",
            "   creating: ChromHMM/ANCHORFILES/dm6/\n",
            "  inflating: ChromHMM/ANCHORFILES/dm6/RefSeqTES.dm6.txt.gz  \n",
            "  inflating: ChromHMM/ANCHORFILES/dm6/RefSeqTSS.dm6.txt.gz  \n",
            "   creating: ChromHMM/ANCHORFILES/hg18/\n",
            "  inflating: ChromHMM/ANCHORFILES/hg18/RefSeqTES.hg18.txt.gz  \n",
            "  inflating: ChromHMM/ANCHORFILES/hg18/RefSeqTSS.hg18.txt.gz  \n",
            "   creating: ChromHMM/ANCHORFILES/hg19/\n",
            "  inflating: ChromHMM/ANCHORFILES/hg19/RefSeqTES.hg19.txt.gz  \n",
            "  inflating: ChromHMM/ANCHORFILES/hg19/RefSeqTSS.hg19.txt.gz  \n",
            "   creating: ChromHMM/ANCHORFILES/hg38/\n",
            "  inflating: ChromHMM/ANCHORFILES/hg38/RefSeqTES.hg38.txt.gz  \n",
            "  inflating: ChromHMM/ANCHORFILES/hg38/RefSeqTSS.hg38.txt.gz  \n",
            "   creating: ChromHMM/ANCHORFILES/hs1/\n",
            "  inflating: ChromHMM/ANCHORFILES/hs1/RefSeqTES.hs1.txt.gz  \n",
            "  inflating: ChromHMM/ANCHORFILES/hs1/RefSeqTSS.hs1.txt.gz  \n",
            "   creating: ChromHMM/ANCHORFILES/mm10/\n",
            "  inflating: ChromHMM/ANCHORFILES/mm10/RefSeqTES.mm10.txt.gz  \n",
            "  inflating: ChromHMM/ANCHORFILES/mm10/RefSeqTSS.mm10.txt.gz  \n",
            "   creating: ChromHMM/ANCHORFILES/mm39/\n",
            "  inflating: ChromHMM/ANCHORFILES/mm39/RefSeqTES.mm39.txt.gz  \n",
            "  inflating: ChromHMM/ANCHORFILES/mm39/RefSeqTSS.mm39.txt.gz  \n",
            "   creating: ChromHMM/ANCHORFILES/mm9/\n",
            "  inflating: ChromHMM/ANCHORFILES/mm9/RefSeqTES.mm9.txt.gz  \n",
            "  inflating: ChromHMM/ANCHORFILES/mm9/RefSeqTSS.mm9.txt.gz  \n",
            "   creating: ChromHMM/ANCHORFILES/rn5/\n",
            "  inflating: ChromHMM/ANCHORFILES/rn5/RefSeqTES.rn5.txt.gz  \n",
            "  inflating: ChromHMM/ANCHORFILES/rn5/RefSeqTSS.rn5.txt.gz  \n",
            "   creating: ChromHMM/ANCHORFILES/rn6/\n",
            "  inflating: ChromHMM/ANCHORFILES/rn6/RefSeqTES.rn6.txt.gz  \n",
            "  inflating: ChromHMM/ANCHORFILES/rn6/RefSeqTSS.rn6.txt.gz  \n",
            "  inflating: ChromHMM/ChromHMM.jar   \n",
            "  inflating: ChromHMM/ChromHMM_manual.pdf  \n",
            "   creating: ChromHMM/CHROMSIZES/\n",
            "  inflating: ChromHMM/CHROMSIZES/ce10.txt  \n",
            "  inflating: ChromHMM/CHROMSIZES/ce11.txt  \n",
            "  inflating: ChromHMM/CHROMSIZES/ce6.txt  \n",
            "  inflating: ChromHMM/CHROMSIZES/danRer10.txt  \n",
            "  inflating: ChromHMM/CHROMSIZES/danRer11.txt  \n",
            "  inflating: ChromHMM/CHROMSIZES/danRer7.txt  \n",
            "  inflating: ChromHMM/CHROMSIZES/dm3.txt  \n",
            "  inflating: ChromHMM/CHROMSIZES/dm6.txt  \n",
            "  inflating: ChromHMM/CHROMSIZES/hg18.txt  \n",
            "  inflating: ChromHMM/CHROMSIZES/hg19.txt  \n",
            "  inflating: ChromHMM/CHROMSIZES/hg38.txt  \n",
            "  inflating: ChromHMM/CHROMSIZES/hs1.txt  \n",
            "  inflating: ChromHMM/CHROMSIZES/mm10.txt  \n",
            "  inflating: ChromHMM/CHROMSIZES/mm39.txt  \n",
            "  inflating: ChromHMM/CHROMSIZES/mm9.txt  \n",
            "  inflating: ChromHMM/CHROMSIZES/rn5.txt  \n",
            "  inflating: ChromHMM/CHROMSIZES/rn6.txt  \n",
            "   creating: ChromHMM/COORDS/\n",
            "   creating: ChromHMM/COORDS/ce10/\n",
            "  inflating: ChromHMM/COORDS/ce10/RefSeqExon.ce10.bed.gz  \n",
            "  inflating: ChromHMM/COORDS/ce10/RefSeqGene.ce10.bed.gz  \n",
            "  inflating: ChromHMM/COORDS/ce10/RefSeqTES.ce10.bed.gz  \n",
            "  inflating: ChromHMM/COORDS/ce10/RefSeqTSS.ce10.bed.gz  \n",
            "  inflating: ChromHMM/COORDS/ce10/RefSeqTSS2kb.ce10.bed.gz  \n",
            "   creating: ChromHMM/COORDS/ce11/\n",
            "  inflating: ChromHMM/COORDS/ce11/RefSeqExon.ce11.bed.gz  \n",
            "  inflating: ChromHMM/COORDS/ce11/RefSeqGene.ce11.bed.gz  \n",
            "  inflating: ChromHMM/COORDS/ce11/RefSeqTES.ce11.bed.gz  \n",
            "  inflating: ChromHMM/COORDS/ce11/RefSeqTSS.ce11.bed.gz  \n",
            "  inflating: ChromHMM/COORDS/ce11/RefSeqTSS2kb.ce11.bed.gz  \n",
            "   creating: ChromHMM/COORDS/ce6/\n",
            "  inflating: ChromHMM/COORDS/ce6/RefSeqExon.ce6.bed.gz  \n",
            "  inflating: ChromHMM/COORDS/ce6/RefSeqGene.ce6.bed.gz  \n",
            "  inflating: ChromHMM/COORDS/ce6/RefSeqTES.ce6.bed.gz  \n",
            "  inflating: ChromHMM/COORDS/ce6/RefSeqTSS.ce6.bed.gz  \n",
            "  inflating: ChromHMM/COORDS/ce6/RefSeqTSS2kb.ce6.bed.gz  \n",
            "   creating: ChromHMM/COORDS/danRer10/\n",
            "  inflating: ChromHMM/COORDS/danRer10/RefSeqExon.danRer10.bed.gz  \n",
            "  inflating: ChromHMM/COORDS/danRer10/RefSeqGene.danRer10.bed.gz  \n",
            "  inflating: ChromHMM/COORDS/danRer10/RefSeqTES.danRer10.bed.gz  \n",
            "  inflating: ChromHMM/COORDS/danRer10/RefSeqTSS.danRer10.bed.gz  \n",
            "  inflating: ChromHMM/COORDS/danRer10/RefSeqTSS2kb.danRer10.bed.gz  \n",
            "   creating: ChromHMM/COORDS/danRer11/\n",
            "  inflating: ChromHMM/COORDS/danRer11/RefSeqExon.danRer11.bed.gz  \n",
            "  inflating: ChromHMM/COORDS/danRer11/RefSeqGene.danRer11.bed.gz  \n",
            "  inflating: ChromHMM/COORDS/danRer11/RefSeqTES.danRer11.bed.gz  \n",
            "  inflating: ChromHMM/COORDS/danRer11/RefSeqTSS.danRer11.bed.gz  \n",
            "  inflating: ChromHMM/COORDS/danRer11/RefSeqTSS2kb.danRer11.bed.gz  \n",
            "   creating: ChromHMM/COORDS/danRer7/\n",
            "  inflating: ChromHMM/COORDS/danRer7/RefSeqExon.danRer7.bed.gz  \n",
            "  inflating: ChromHMM/COORDS/danRer7/RefSeqGene.danRer7.bed.gz  \n",
            "  inflating: ChromHMM/COORDS/danRer7/RefSeqTES.danRer7.bed.gz  \n",
            "  inflating: ChromHMM/COORDS/danRer7/RefSeqTSS.danRer7.bed.gz  \n",
            "  inflating: ChromHMM/COORDS/danRer7/RefSeqTSS2kb.danRer7.bed.gz  \n",
            "   creating: ChromHMM/COORDS/dm3/\n",
            "  inflating: ChromHMM/COORDS/dm3/RefSeqExon.dm3.bed.gz  \n",
            "  inflating: ChromHMM/COORDS/dm3/RefSeqGene.dm3.bed.gz  \n",
            "  inflating: ChromHMM/COORDS/dm3/RefSeqTES.dm3.bed.gz  \n",
            "  inflating: ChromHMM/COORDS/dm3/RefSeqTSS.dm3.bed.gz  \n",
            "  inflating: ChromHMM/COORDS/dm3/RefSeqTSS2kb.dm3.bed.gz  \n",
            "   creating: ChromHMM/COORDS/dm6/\n",
            "  inflating: ChromHMM/COORDS/dm6/RefSeqExon.dm6.bed.gz  \n",
            "  inflating: ChromHMM/COORDS/dm6/RefSeqGene.dm6.bed.gz  \n",
            "  inflating: ChromHMM/COORDS/dm6/RefSeqTES.dm6.bed.gz  \n",
            "  inflating: ChromHMM/COORDS/dm6/RefSeqTSS.dm6.bed.gz  \n",
            "  inflating: ChromHMM/COORDS/dm6/RefSeqTSS2kb.dm6.bed.gz  \n",
            "   creating: ChromHMM/COORDS/hg18/\n",
            "  inflating: ChromHMM/COORDS/hg18/CpGIsland.hg18.bed.gz  \n",
            " extracting: ChromHMM/COORDS/hg18/laminB1lads.hg18.bed.gz  \n",
            "  inflating: ChromHMM/COORDS/hg18/RefSeqExon.hg18.bed.gz  \n",
            "  inflating: ChromHMM/COORDS/hg18/RefSeqGene.hg18.bed.gz  \n",
            "  inflating: ChromHMM/COORDS/hg18/RefSeqTES.hg18.bed.gz  \n",
            "  inflating: ChromHMM/COORDS/hg18/RefSeqTSS.hg18.bed.gz  \n",
            "  inflating: ChromHMM/COORDS/hg18/RefSeqTSS2kb.hg18.bed.gz  \n",
            "   creating: ChromHMM/COORDS/hg19/\n",
            "  inflating: ChromHMM/COORDS/hg19/CpGIsland.hg19.bed.gz  \n",
            " extracting: ChromHMM/COORDS/hg19/laminB1lads.hg19.bed.gz  \n",
            "  inflating: ChromHMM/COORDS/hg19/RefSeqExon.hg19.bed.gz  \n",
            "  inflating: ChromHMM/COORDS/hg19/RefSeqGene.hg19.bed.gz  \n",
            "  inflating: ChromHMM/COORDS/hg19/RefSeqTES.hg19.bed.gz  \n",
            "  inflating: ChromHMM/COORDS/hg19/RefSeqTSS.hg19.bed.gz  \n",
            "  inflating: ChromHMM/COORDS/hg19/RefSeqTSS2kb.hg19.bed.gz  \n",
            "   creating: ChromHMM/COORDS/hg38/\n",
            "  inflating: ChromHMM/COORDS/hg38/CpGIsland.hg38.bed.gz  \n",
            "  inflating: ChromHMM/COORDS/hg38/RefSeqExon.hg38.bed.gz  \n",
            "  inflating: ChromHMM/COORDS/hg38/RefSeqGene.hg38.bed.gz  \n",
            "  inflating: ChromHMM/COORDS/hg38/RefSeqTES.hg38.bed.gz  \n",
            "  inflating: ChromHMM/COORDS/hg38/RefSeqTSS.hg38.bed.gz  \n",
            "  inflating: ChromHMM/COORDS/hg38/RefSeqTSS2kb.hg38.bed.gz  \n",
            "   creating: ChromHMM/COORDS/hs1/\n",
            "  inflating: ChromHMM/COORDS/hs1/CpGIsland.hs1.bed.gz  \n",
            "  inflating: ChromHMM/COORDS/hs1/RefSeqExon.hs1.bed.gz  \n",
            "  inflating: ChromHMM/COORDS/hs1/RefSeqGene.hs1.bed.gz  \n",
            "  inflating: ChromHMM/COORDS/hs1/RefSeqTES.hs1.bed.gz  \n",
            "  inflating: ChromHMM/COORDS/hs1/RefSeqTSS.hs1.bed.gz  \n",
            "  inflating: ChromHMM/COORDS/hs1/RefSeqTSS2kb.hs1.bed.gz  \n",
            "   creating: ChromHMM/COORDS/mm10/\n",
            "  inflating: ChromHMM/COORDS/mm10/CpGIsland.mm10.bed.gz  \n",
            "  inflating: ChromHMM/COORDS/mm10/RefSeqExon.mm10.bed.gz  \n",
            "  inflating: ChromHMM/COORDS/mm10/RefSeqGene.mm10.bed.gz  \n",
            "  inflating: ChromHMM/COORDS/mm10/RefSeqTES.mm10.bed.gz  \n",
            "  inflating: ChromHMM/COORDS/mm10/RefSeqTSS.mm10.bed.gz  \n",
            "  inflating: ChromHMM/COORDS/mm10/RefSeqTSS2kb.mm10.bed.gz  \n",
            "   creating: ChromHMM/COORDS/mm39/\n",
            "  inflating: ChromHMM/COORDS/mm39/CpGIsland.mm39.bed.gz  \n",
            "  inflating: ChromHMM/COORDS/mm39/RefSeqExon.mm39.bed.gz  \n",
            "  inflating: ChromHMM/COORDS/mm39/RefSeqGene.mm39.bed.gz  \n",
            "  inflating: ChromHMM/COORDS/mm39/RefSeqTES.mm39.bed.gz  \n",
            "  inflating: ChromHMM/COORDS/mm39/RefSeqTSS.mm39.bed.gz  \n",
            "  inflating: ChromHMM/COORDS/mm39/RefSeqTSS2kb.mm39.bed.gz  \n",
            "   creating: ChromHMM/COORDS/mm9/\n",
            "  inflating: ChromHMM/COORDS/mm9/CpGIsland.mm9.bed.gz  \n",
            "  inflating: ChromHMM/COORDS/mm9/RefSeqExon.mm9.bed.gz  \n",
            "  inflating: ChromHMM/COORDS/mm9/RefSeqGene.mm9.bed.gz  \n",
            "  inflating: ChromHMM/COORDS/mm9/RefSeqTES.mm9.bed.gz  \n",
            "  inflating: ChromHMM/COORDS/mm9/RefSeqTSS.mm9.bed.gz  \n",
            "  inflating: ChromHMM/COORDS/mm9/RefSeqTSS2kb.mm9.bed.gz  \n",
            "   creating: ChromHMM/COORDS/rn5/\n",
            "  inflating: ChromHMM/COORDS/rn5/CpGIsland.rn5.bed.gz  \n",
            "  inflating: ChromHMM/COORDS/rn5/RefSeqExon.rn5.bed.gz  \n",
            "  inflating: ChromHMM/COORDS/rn5/RefSeqGene.rn5.bed.gz  \n",
            "  inflating: ChromHMM/COORDS/rn5/RefSeqTES.rn5.bed.gz  \n",
            "  inflating: ChromHMM/COORDS/rn5/RefSeqTSS.rn5.bed.gz  \n",
            "  inflating: ChromHMM/COORDS/rn5/RefSeqTSS2kb.rn5.bed.gz  \n",
            "   creating: ChromHMM/COORDS/rn6/\n",
            "  inflating: ChromHMM/COORDS/rn6/CpGIsland.rn6.bed.gz  \n",
            "  inflating: ChromHMM/COORDS/rn6/RefSeqExon.rn6.bed.gz  \n",
            "  inflating: ChromHMM/COORDS/rn6/RefSeqGene.rn6.bed.gz  \n",
            "  inflating: ChromHMM/COORDS/rn6/RefSeqTES.rn6.bed.gz  \n",
            "  inflating: ChromHMM/COORDS/rn6/RefSeqTSS.rn6.bed.gz  \n",
            "  inflating: ChromHMM/COORDS/rn6/RefSeqTSS2kb.rn6.bed.gz  \n",
            "   creating: ChromHMM/SAMPLEDATA_HG18/\n",
            "  inflating: ChromHMM/SAMPLEDATA_HG18/GM12878_chr11_binary.txt.gz  \n",
            "  inflating: ChromHMM/SAMPLEDATA_HG18/K562_chr11_binary.txt.gz  \n",
            "   creating: ChromHMM/SRC/\n",
            "   creating: ChromHMM/SRC/edu/\n",
            "   creating: ChromHMM/SRC/edu/mit/\n",
            "   creating: ChromHMM/SRC/edu/mit/compbio/\n",
            "   creating: ChromHMM/SRC/edu/mit/compbio/ChromHMM/\n",
            "  inflating: ChromHMM/SRC/edu/mit/compbio/ChromHMM/BrowserOutput.java  \n",
            "  inflating: ChromHMM/SRC/edu/mit/compbio/ChromHMM/ChromHMM.java  \n",
            "  inflating: ChromHMM/SRC/edu/mit/compbio/ChromHMM/ConvertGeneTable.java  \n",
            "  inflating: ChromHMM/SRC/edu/mit/compbio/ChromHMM/NestedEliminateInitialize.java  \n",
            "  inflating: ChromHMM/SRC/edu/mit/compbio/ChromHMM/Preprocessing.java  \n",
            "  inflating: ChromHMM/SRC/edu/mit/compbio/ChromHMM/StateAnalysis.java  \n",
            "  inflating: ChromHMM/SRC/edu/mit/compbio/ChromHMM/Util.java  \n",
            "   creating: ChromHMM/SRC/org/\n",
            "   creating: ChromHMM/SRC/org/tc33/\n",
            "   creating: ChromHMM/SRC/org/tc33/jheatchart/\n",
            "  inflating: ChromHMM/SRC/org/tc33/jheatchart/HeatChart.java  \n",
            "  inflating: ChromHMM/versionlog.txt  \n"
          ]
        }
      ],
      "source": [
        "!unzip /content/ChromHMM.zip"
      ]
    },
    {
      "cell_type": "markdown",
      "metadata": {
        "id": "k80uGrS5quq1"
      },
      "source": [
        "## Скачиваем файлы"
      ]
    },
    {
      "cell_type": "code",
      "execution_count": null,
      "metadata": {
        "colab": {
          "base_uri": "https://localhost:8080/"
        },
        "id": "4tacP7Zya4I7",
        "outputId": "4fec9b79-e905-4828-90d9-d38d640d32f7"
      },
      "outputs": [],
      "source": [
        "!wget http://hgdownload.cse.ucsc.edu/goldenPath/hg19/encodeDCC/wgEncodeBroadHistone/wgEncodeBroadHistoneGm12878H3k27acStdAlnRep1.bam\n",
        "!wget http://hgdownload.cse.ucsc.edu/goldenPath/hg19/encodeDCC/wgEncodeBroadHistone/wgEncodeBroadHistoneGm12878H2azStdAlnRep1.bam\n",
        "!wget http://hgdownload.cse.ucsc.edu/goldenPath/hg19/encodeDCC/wgEncodeBroadHistone/wgEncodeBroadHistoneGm12878H3k27me3StdAlnRep1.bam\n",
        "!wget http://hgdownload.cse.ucsc.edu/goldenPath/hg19/encodeDCC/wgEncodeBroadHistone/wgEncodeBroadHistoneGm12878H3k36me3StdAlnRep1.bam\n",
        "!wget http://hgdownload.cse.ucsc.edu/goldenPath/hg19/encodeDCC/wgEncodeBroadHistone/wgEncodeBroadHistoneGm12878H3k04me1StdAlnRep1V2.bam\n",
        "!wget http://hgdownload.cse.ucsc.edu/goldenPath/hg19/encodeDCC/wgEncodeBroadHistone/wgEncodeBroadHistoneGm12878H3k4me2StdAlnRep1.bam\n",
        "!wget http://hgdownload.cse.ucsc.edu/goldenPath/hg19/encodeDCC/wgEncodeBroadHistone/wgEncodeBroadHistoneGm12878H3k04me3StdAlnRep2V2.bam\n",
        "!wget http://hgdownload.cse.ucsc.edu/goldenPath/hg19/encodeDCC/wgEncodeBroadHistone/wgEncodeBroadHistoneGm12878H3k79me2StdAlnRep1.bam\n",
        "!wget http://hgdownload.cse.ucsc.edu/goldenPath/hg19/encodeDCC/wgEncodeBroadHistone/wgEncodeBroadHistoneGm12878H3k9acStdAlnRep1.bam\n",
        "!wget http://hgdownload.cse.ucsc.edu/goldenPath/hg19/encodeDCC/wgEncodeBroadHistone/wgEncodeBroadHistoneGm12878H3k9me3StdAlnRep1.bam\n",
        "!wget http://hgdownload.cse.ucsc.edu/goldenPath/hg19/encodeDCC/wgEncodeBroadHistone/wgEncodeBroadHistoneGm12878H4k20me1StdAlnRep1.bam"
      ]
    },
    {
      "cell_type": "code",
      "execution_count": null,
      "metadata": {
        "colab": {
          "base_uri": "https://localhost:8080/"
        },
        "id": "o799eof6a7dt",
        "outputId": "1cb35181-c208-4cbc-e00d-8327927a7474"
      },
      "outputs": [],
      "source": [
        "!wget http://hgdownload.cse.ucsc.edu/goldenPath/hg19/encodeDCC/wgEncodeBroadHistone/wgEncodeBroadHistoneGm12878ControlStdAlnRep1.bam"
      ]
    },
    {
      "cell_type": "markdown",
      "metadata": {
        "id": "WeoRL3rp728b"
      },
      "source": [
        "Запускаем ChromHMM с опцией BinarizeBam, чтобы конвертировать профили из ChIP-seq экспериментов (bam-файлы) в табличку из 0 и 1, т.е. чтобы сделать разбивку генома на условные интервалы (бины) длиной 200 п.о.\n",
        "Для 11 меток программа работает около 5 мин\n"
      ]
    },
    {
      "cell_type": "code",
      "execution_count": 13,
      "metadata": {
        "colab": {
          "base_uri": "https://localhost:8080/"
        },
        "id": "GcVBvuQZfzb8",
        "outputId": "0dd16f79-0b80-44cf-fedb-3dfa7513999d"
      },
      "outputs": [
        {
          "name": "stdout",
          "output_type": "stream",
          "text": [
            "Writing to file binarizedData/GM12878_chr1_binary.txt\n",
            "Writing to file binarizedData/GM12878_chr2_binary.txt\n",
            "Writing to file binarizedData/GM12878_chr3_binary.txt\n",
            "Writing to file binarizedData/GM12878_chr4_binary.txt\n",
            "Writing to file binarizedData/GM12878_chr5_binary.txt\n",
            "Writing to file binarizedData/GM12878_chr6_binary.txt\n",
            "Writing to file binarizedData/GM12878_chr7_binary.txt\n",
            "Writing to file binarizedData/GM12878_chrX_binary.txt\n",
            "Writing to file binarizedData/GM12878_chr8_binary.txt\n",
            "Writing to file binarizedData/GM12878_chr9_binary.txt\n",
            "Writing to file binarizedData/GM12878_chr10_binary.txt\n",
            "Writing to file binarizedData/GM12878_chr11_binary.txt\n",
            "Writing to file binarizedData/GM12878_chr12_binary.txt\n",
            "Writing to file binarizedData/GM12878_chr13_binary.txt\n",
            "Writing to file binarizedData/GM12878_chr14_binary.txt\n",
            "Writing to file binarizedData/GM12878_chr15_binary.txt\n",
            "Writing to file binarizedData/GM12878_chr16_binary.txt\n",
            "Writing to file binarizedData/GM12878_chr17_binary.txt\n",
            "Writing to file binarizedData/GM12878_chr18_binary.txt\n",
            "Writing to file binarizedData/GM12878_chr20_binary.txt\n",
            "Writing to file binarizedData/GM12878_chr19_binary.txt\n",
            "Writing to file binarizedData/GM12878_chr22_binary.txt\n",
            "Writing to file binarizedData/GM12878_chr21_binary.txt\n",
            "Writing to file binarizedData/GM12878_chrM_binary.txt\n"
          ]
        }
      ],
      "source": [
        "!java -mx5000M -jar /content/ChromHMM/ChromHMM.jar BinarizeBam -b 200  /content/ChromHMM/CHROMSIZES/hg19.txt /content/ cellmarkfiletable.txt   binarizedData\n"
      ]
    },
    {
      "cell_type": "code",
      "execution_count": 14,
      "metadata": {
        "colab": {
          "base_uri": "https://localhost:8080/"
        },
        "id": "n7QBJRT6ZMiu",
        "outputId": "3baffaaf-78b5-4e5c-edc7-c58d7abed3c5"
      },
      "outputs": [
        {
          "name": "stdout",
          "output_type": "stream",
          "text": [
            "Writing to file results10/transitions_10.txt\n",
            "Writing to file results10/emissions_10.txt\n",
            "Writing to file results10/emissions_10.svg\n",
            "Writing to file results10/emissions_10.png\n",
            "Writing to file results10/transitions_10.png\n",
            "Writing to file results10/transitions_10.svg\n",
            "Writing to file results10/model_10.txt\n",
            " Iteration  Estimated Log Likelihood     Change    Total Time (secs)\n",
            "         1              -9831062.490          -                 22.5\n",
            "         2              -8322111.744 1508950.745                 36.6\n",
            "         3              -8007054.324 315057.420                 46.8\n",
            "         4              -7812867.873 194186.451                 58.7\n",
            "         5              -7708114.834 104753.039                 70.3\n",
            "         6              -7660892.862  47221.972                 81.4\n",
            "         7              -7637897.694  22995.169                 91.3\n",
            "         8              -7624609.758  13287.935                102.7\n",
            "         9              -7617557.159   7052.599                116.1\n",
            "        10              -7613368.140   4189.019                127.5\n",
            "        11              -7610236.089   3132.051                137.0\n",
            "        12              -7607507.284   2728.805                148.5\n",
            "        13              -7604870.057   2637.226                160.1\n",
            "        14              -7602203.567   2666.490                171.1\n",
            "        15              -7599536.270   2667.297                181.1\n",
            "        16              -7596958.052   2578.218                192.5\n",
            "        17              -7594545.785   2412.266                203.9\n",
            "        18              -7592358.651   2187.134                214.4\n",
            "        19              -7590452.352   1906.300                224.9\n",
            "        20              -7588873.571   1578.781                236.5\n",
            "        21              -7587638.633   1234.938                247.9\n",
            "        22              -7586720.550    918.083                257.9\n",
            "        23              -7586062.224    658.326                269.3\n",
            "        24              -7585598.416    463.808                284.2\n",
            "        25              -7585271.697    326.719                295.6\n",
            "        26              -7585038.292    233.405                318.3\n",
            "        27              -7584855.776    182.516                331.9\n",
            "        28              -7584489.001    366.775                345.5\n",
            "        29              -7583059.538   1429.463                359.1\n",
            "        30              -7582171.935    887.603                372.7\n",
            "        31              -7582028.184    143.751                388.1\n",
            "        32              -7581957.010     71.174                400.8\n",
            "        33              -7581899.612     57.398                411.5\n",
            "        34              -7581848.445     51.167                423.9\n",
            "        35              -7581799.983     48.462                436.4\n",
            "        36              -7581751.949     48.033                449.3\n",
            "        37              -7581703.138     48.812                462.4\n",
            "        38              -7581653.301     49.837                474.5\n",
            "        39              -7581602.886     50.414                485.6\n",
            "        40              -7581552.756     50.130                505.2\n",
            "        41              -7581504.059     48.697                516.2\n",
            "        42              -7581458.180     45.879                530.9\n",
            "        43              -7581416.520     41.660                543.0\n",
            "        44              -7581380.096     36.424                555.1\n",
            "        45              -7581349.237     30.858                565.6\n",
            "        46              -7581323.616     25.622                577.0\n",
            "        47              -7581302.549     21.067                592.7\n",
            "        48              -7581285.296     17.253                606.0\n",
            "        49              -7581271.156     14.140                623.2\n",
            "        50              -7581259.438     11.717                636.7\n",
            "        51              -7581249.599      9.840                650.3\n",
            "        52              -7581241.098      8.501                663.9\n",
            "        53              -7581233.579      7.520                677.4\n",
            "        54              -7581226.781      6.798                691.0\n",
            "        55              -7581220.525      6.256                704.5\n",
            "        56              -7581214.682      5.842                718.0\n",
            "        57              -7581209.164      5.519                733.3\n",
            "        58              -7581203.903      5.261                745.8\n",
            "        59              -7581198.853      5.049                758.7\n",
            "        60              -7581193.981      4.873                772.2\n",
            "        61              -7581189.260      4.721                785.7\n",
            "        62              -7581184.671      4.588                799.2\n",
            "        63              -7581180.202      4.470                812.8\n",
            "        64              -7581175.837      4.364                826.2\n",
            "        65              -7581171.567      4.270                839.7\n",
            "        66              -7581167.378      4.189                853.1\n",
            "        67              -7581163.259      4.118                865.6\n",
            "        68              -7581159.198      4.061                878.0\n",
            "        69              -7581155.180      4.018                893.8\n",
            "        70              -7581151.191      3.989                907.1\n",
            "        71              -7581147.217      3.974                920.6\n",
            "        72              -7581143.244      3.973                936.3\n",
            "        73              -7581139.258      3.986                949.8\n",
            "        74              -7581135.244      4.014                963.3\n",
            "        75              -7581131.188      4.056                976.9\n",
            "        76              -7581127.076      4.113                990.6\n",
            "        77              -7581122.891      4.185               1004.2\n",
            "        78              -7581118.617      4.273               1017.7\n",
            "        79              -7581114.238      4.379               1030.2\n",
            "        80              -7581109.735      4.503               1042.6\n",
            "        81              -7581105.087      4.648               1056.0\n",
            "        82              -7581100.271      4.816               1069.5\n",
            "        83              -7581095.263      5.008               1083.0\n",
            "        84              -7581090.034      5.229               1096.5\n",
            "        85              -7581084.551      5.482               1110.0\n",
            "        86              -7581078.779      5.772               1123.5\n",
            "        87              -7581072.676      6.103               1137.9\n",
            "        88              -7581066.194      6.483               1153.1\n",
            "        89              -7581059.275      6.919               1166.6\n",
            "        90              -7581051.855      7.420               1179.6\n",
            "        91              -7581043.856      7.999               1192.3\n",
            "        92              -7581035.187      8.669               1205.7\n",
            "        93              -7581025.739      9.448               1219.2\n",
            "        94              -7581015.381     10.357               1232.8\n",
            "        95              -7581003.957     11.424               1246.3\n",
            "        96              -7580991.275     12.682               1259.9\n",
            "        97              -7580977.100     14.174               1273.5\n",
            "        98              -7580961.146     15.955               1287.1\n",
            "        99              -7580943.053     18.092               1300.4\n",
            "       100              -7580922.375     20.678               1313.4\n",
            "       101              -7580898.548     23.827               1326.0\n",
            "       102              -7580870.856     27.692               1339.6\n",
            "       103              -7580838.384     32.472               1355.5\n",
            "       104              -7580799.954     38.430               1369.2\n",
            "       105              -7580754.037     45.916               1382.7\n",
            "       106              -7580698.644     55.393               1396.3\n",
            "       107              -7580631.170     67.474               1409.8\n",
            "       108              -7580548.207     82.963               1422.4\n",
            "       109              -7580445.305    102.902               1434.9\n",
            "       110              -7580316.709    128.595               1448.3\n",
            "       111              -7580155.132    161.577               1461.8\n",
            "       112              -7579951.700    203.432               1475.4\n",
            "       113              -7579696.405    255.296               1489.0\n",
            "       114              -7579379.548    316.857               1502.7\n",
            "       115              -7578994.715    384.832               1516.2\n",
            "       116              -7578543.137    451.579               1531.6\n",
            "       117              -7578037.426    505.710               1544.4\n",
            "       118              -7577501.436    535.991               1560.7\n",
            "       119              -7576965.012    536.424               1573.5\n",
            "       120              -7576456.297    508.715               1586.3\n",
            "       121              -7575995.849    460.448               1599.9\n",
            "       122              -7575594.775    401.074               1613.5\n",
            "       123              -7575256.114    338.661               1627.0\n",
            "       124              -7574977.288    278.826               1640.5\n",
            "       125              -7574752.427    224.861               1654.0\n",
            "       126              -7574574.182    178.245               1667.6\n",
            "       127              -7574434.936    139.246               1681.1\n",
            "       128              -7574327.504    107.432               1694.0\n",
            "       129              -7574245.485     82.019               1706.4\n",
            "       130              -7574183.396     62.089               1719.9\n",
            "       131              -7574136.682     46.714               1733.7\n",
            "       132              -7574101.660     35.022               1747.3\n",
            "       133              -7574075.424     26.236               1762.9\n",
            "       134              -7574055.731     19.693               1776.4\n",
            "       135              -7574040.879     14.852               1789.9\n",
            "       136              -7574029.594     11.284               1803.6\n",
            "       137              -7574020.936      8.658               1817.7\n",
            "       138              -7574014.214      6.722               1831.6\n",
            "       139              -7574008.923      5.290               1844.1\n",
            "       140              -7574004.699      4.224               1856.9\n",
            "       141              -7574001.274      3.424               1870.5\n",
            "       142              -7573998.457      2.817               1884.4\n",
            "       143              -7573996.107      2.350               1898.0\n",
            "       144              -7573994.121      1.986               1912.5\n",
            "       145              -7573992.423      1.698               1926.0\n",
            "       146              -7573990.958      1.465               1939.6\n",
            "       147              -7573989.683      1.275               1954.5\n",
            "       148              -7573988.566      1.117               1967.0\n",
            "       149              -7573987.582      0.984               1980.4\n",
            "       150              -7573986.712      0.870               1994.1\n",
            "       151              -7573985.939      0.772               2007.7\n",
            "       152              -7573985.252      0.687               2021.4\n",
            "       153              -7573984.640      0.612               2034.9\n",
            "       154              -7573984.094      0.546               2048.4\n",
            "       155              -7573983.606      0.488               2061.8\n",
            "       156              -7573983.170      0.436               2074.9\n",
            "       157              -7573982.781      0.389               2087.3\n",
            "       158              -7573982.433      0.348               2100.2\n",
            "       159              -7573982.122      0.311               2113.7\n",
            "       160              -7573981.844      0.278               2127.3\n",
            "       161              -7573981.595      0.248               2142.8\n",
            "       162              -7573981.374      0.222               2158.5\n",
            "       163              -7573981.176      0.198               2172.0\n",
            "       164              -7573981.000      0.176               2185.5\n",
            "       165              -7573980.842      0.157               2199.2\n",
            "       166              -7573980.702      0.140               2212.4\n",
            "       167              -7573980.577      0.125               2224.9\n",
            "       168              -7573980.467      0.111               2237.7\n",
            "       169              -7573980.368      0.099               2251.3\n",
            "       170              -7573980.280      0.088               2264.9\n",
            "       171              -7573980.203      0.078               2278.4\n",
            "       172              -7573980.134      0.069               2291.9\n",
            "       173              -7573980.073      0.061               2305.4\n",
            "       174              -7573980.019      0.054               2319.1\n",
            "       175              -7573979.971      0.048               2332.4\n",
            "       176              -7573979.929      0.042               2347.0\n",
            "       177              -7573979.892      0.037               2359.7\n",
            "       178              -7573979.859      0.033               2373.3\n",
            "       179              -7573979.830      0.029               2387.0\n",
            "       180              -7573979.805      0.025               2400.5\n",
            "       181              -7573979.782      0.022               2414.0\n",
            "       182              -7573979.763      0.019               2427.6\n",
            "       183              -7573979.746      0.017               2441.2\n",
            "       184              -7573979.731      0.015               2454.8\n",
            "       185              -7573979.718      0.013               2467.8\n",
            "       186              -7573979.707      0.011               2480.2\n",
            "       187              -7573979.697      0.010               2493.3\n",
            "       188              -7573979.689      0.008               2507.2\n",
            "       189              -7573979.682      0.007               2520.8\n",
            "       190              -7573979.676      0.006               2534.3\n",
            "       191              -7573979.670      0.005               2550.1\n",
            "       192              -7573979.666      0.004               2563.6\n",
            "       193              -7573979.662      0.004               2577.2\n",
            "       194              -7573979.659      0.003               2589.9\n",
            "       195              -7573979.657      0.003               2602.2\n",
            "       196              -7573979.655      0.002               2615.7\n",
            "       197              -7573979.653      0.002               2629.2\n",
            "       198              -7573979.651      0.001               2643.0\n",
            "       199              -7573979.650      0.001               2656.4\n",
            "       200              -7573979.650      0.001               2669.9\n",
            "Writing to file results10/GM12878_10_segments.bed\n",
            "Writing to file results10/GM12878_10_dense.bed\n",
            "Writing to file results10/GM12878_10_expanded.bed\n",
            "Writing to file results10/GM12878_10_overlap.txt\n",
            "Writing to file results10/GM12878_10_overlap.png\n",
            "Writing to file results10/GM12878_10_overlap.svg\n",
            "Writing to file results10/GM12878_10_RefSeqTSS_neighborhood.txt\n",
            "Writing to file results10/GM12878_10_RefSeqTSS_neighborhood.png\n",
            "Writing to file results10/GM12878_10_RefSeqTSS_neighborhood.svg\n",
            "Writing to file results10/GM12878_10_RefSeqTES_neighborhood.txt\n",
            "Writing to file results10/GM12878_10_RefSeqTES_neighborhood.png\n",
            "Writing to file results10/GM12878_10_RefSeqTES_neighborhood.svg\n",
            "Warning could not automatically open in a browser results10/webpage_10.html\n"
          ]
        }
      ],
      "source": [
        "!java -mx5000M -jar /content/ChromHMM/ChromHMM.jar LearnModel /content/binarizedData results10 10 hg19"
      ]
    },
    {
      "cell_type": "code",
      "execution_count": 15,
      "metadata": {
        "colab": {
          "base_uri": "https://localhost:8080/"
        },
        "id": "FhLD9rXIwO5o",
        "outputId": "485f9edd-ad4d-4b85-f67a-6014b6f35722"
      },
      "outputs": [
        {
          "name": "stdout",
          "output_type": "stream",
          "text": [
            "results10/\n",
            "results10/GM12878_10_RefSeqTSS_neighborhood.svg\n",
            "results10/emissions_10.png\n",
            "results10/GM12878_10_RefSeqTSS_neighborhood.png\n",
            "results10/GM12878_10_overlap.svg\n",
            "results10/GM12878_10_overlap.txt\n",
            "results10/emissions_10.svg\n",
            "results10/transitions_10.svg\n",
            "results10/GM12878_10_RefSeqTES_neighborhood.svg\n",
            "results10/GM12878_10_expanded.bed\n",
            "results10/GM12878_10_RefSeqTES_neighborhood.txt\n",
            "results10/GM12878_10_RefSeqTSS_neighborhood.txt\n",
            "results10/emissions_10.txt\n",
            "results10/transitions_10.txt\n",
            "results10/GM12878_10_RefSeqTES_neighborhood.png\n",
            "results10/webpage_10.html\n",
            "results10/GM12878_10_dense.bed\n",
            "results10/GM12878_10_segments.bed\n",
            "results10/GM12878_10_overlap.png\n",
            "results10/model_10.txt\n",
            "results10/transitions_10.png\n"
          ]
        }
      ],
      "source": [
        "! tar -cvf output.tar.gz results10"
      ]
    },
    {
      "cell_type": "code",
      "execution_count": 16,
      "metadata": {
        "id": "1-0bUvXl0uQG"
      },
      "outputs": [],
      "source": [
        "types = {'1': 'Txn_Elongation',\n",
        "         '2': 'Txn_Transition/Elongation',\n",
        "         '3': 'Strong_Enhancer',\n",
        "         '4': 'Active_Promoter',\n",
        "         '5': 'Strong_Enhancer',\n",
        "         '6': 'Weak_Promoter/Enhancer',\n",
        "         '7': 'Weak_Enhancer',\n",
        "         '8': 'Txn_Transition',\n",
        "         '9': 'Heterochromatin',\n",
        "         '10': 'Heterochromatin',\n",
        "}\n",
        "\n",
        "with open(f\"results10/GM12878_10_dense.bed\", 'r') as f1, open(f\"GM12878_10_dense_new.bed\", 'w') as f2:\n",
        "    file = f1.readlines()\n",
        "    for l in file:\n",
        "        if 'chr' in l[0:3]:\n",
        "            l = l.split('\\t')\n",
        "            l[3] = l[3] + '_' + types[l[3]]\n",
        "            l = '\\t'.join(l)\n",
        "        f2.write(l)"
      ]
    }
  ],
  "metadata": {
    "colab": {
      "provenance": []
    },
    "kernelspec": {
      "display_name": "Python 3",
      "name": "python3"
    },
    "language_info": {
      "name": "python",
      "version": "3.9.6"
    }
  },
  "nbformat": 4,
  "nbformat_minor": 0
}
